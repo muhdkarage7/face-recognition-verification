{
 "cells": [
  {
   "cell_type": "code",
   "execution_count": 1,
   "id": "99458f83-1fa3-4f0f-a31d-aab1753d736f",
   "metadata": {},
   "outputs": [
    {
     "data": {
      "text/html": [
       "<pre style=\"white-space:pre;overflow-x:auto;line-height:normal;font-family:Menlo,'DejaVu Sans Mono',consolas,'Courier New',monospace\"><span style=\"font-weight: bold\">Model: \"sequential\"</span>\n",
       "</pre>\n"
      ],
      "text/plain": [
       "\u001b[1mModel: \"sequential\"\u001b[0m\n"
      ]
     },
     "metadata": {},
     "output_type": "display_data"
    },
    {
     "data": {
      "text/html": [
       "<pre style=\"white-space:pre;overflow-x:auto;line-height:normal;font-family:Menlo,'DejaVu Sans Mono',consolas,'Courier New',monospace\">┏━━━━━━━━━━━━━━━━━━━━━━━━━━━━━━━━━━━━━━┳━━━━━━━━━━━━━━━━━━━━━━━━━━━━━┳━━━━━━━━━━━━━━━━━┓\n",
       "┃<span style=\"font-weight: bold\"> Layer (type)                         </span>┃<span style=\"font-weight: bold\"> Output Shape                </span>┃<span style=\"font-weight: bold\">         Param # </span>┃\n",
       "┡━━━━━━━━━━━━━━━━━━━━━━━━━━━━━━━━━━━━━━╇━━━━━━━━━━━━━━━━━━━━━━━━━━━━━╇━━━━━━━━━━━━━━━━━┩\n",
       "│ inception_v3 (<span style=\"color: #0087ff; text-decoration-color: #0087ff\">Functional</span>)            │ (<span style=\"color: #00d7ff; text-decoration-color: #00d7ff\">None</span>, <span style=\"color: #00d7ff; text-decoration-color: #00d7ff\">None</span>, <span style=\"color: #00d7ff; text-decoration-color: #00d7ff\">None</span>, <span style=\"color: #00af00; text-decoration-color: #00af00\">2048</span>)    │      <span style=\"color: #00af00; text-decoration-color: #00af00\">21,802,784</span> │\n",
       "├──────────────────────────────────────┼─────────────────────────────┼─────────────────┤\n",
       "│ global_average_pooling2d             │ (<span style=\"color: #00d7ff; text-decoration-color: #00d7ff\">None</span>, <span style=\"color: #00af00; text-decoration-color: #00af00\">2048</span>)                │               <span style=\"color: #00af00; text-decoration-color: #00af00\">0</span> │\n",
       "│ (<span style=\"color: #0087ff; text-decoration-color: #0087ff\">GlobalAveragePooling2D</span>)             │                             │                 │\n",
       "├──────────────────────────────────────┼─────────────────────────────┼─────────────────┤\n",
       "│ dense (<span style=\"color: #0087ff; text-decoration-color: #0087ff\">Dense</span>)                        │ (<span style=\"color: #00d7ff; text-decoration-color: #00d7ff\">None</span>, <span style=\"color: #00af00; text-decoration-color: #00af00\">128</span>)                 │         <span style=\"color: #00af00; text-decoration-color: #00af00\">262,272</span> │\n",
       "├──────────────────────────────────────┼─────────────────────────────┼─────────────────┤\n",
       "│ dropout (<span style=\"color: #0087ff; text-decoration-color: #0087ff\">Dropout</span>)                    │ (<span style=\"color: #00d7ff; text-decoration-color: #00d7ff\">None</span>, <span style=\"color: #00af00; text-decoration-color: #00af00\">128</span>)                 │               <span style=\"color: #00af00; text-decoration-color: #00af00\">0</span> │\n",
       "├──────────────────────────────────────┼─────────────────────────────┼─────────────────┤\n",
       "│ dense_1 (<span style=\"color: #0087ff; text-decoration-color: #0087ff\">Dense</span>)                      │ (<span style=\"color: #00d7ff; text-decoration-color: #00d7ff\">None</span>, <span style=\"color: #00af00; text-decoration-color: #00af00\">64</span>)                  │           <span style=\"color: #00af00; text-decoration-color: #00af00\">8,256</span> │\n",
       "├──────────────────────────────────────┼─────────────────────────────┼─────────────────┤\n",
       "│ dropout_1 (<span style=\"color: #0087ff; text-decoration-color: #0087ff\">Dropout</span>)                  │ (<span style=\"color: #00d7ff; text-decoration-color: #00d7ff\">None</span>, <span style=\"color: #00af00; text-decoration-color: #00af00\">64</span>)                  │               <span style=\"color: #00af00; text-decoration-color: #00af00\">0</span> │\n",
       "├──────────────────────────────────────┼─────────────────────────────┼─────────────────┤\n",
       "│ dense_2 (<span style=\"color: #0087ff; text-decoration-color: #0087ff\">Dense</span>)                      │ (<span style=\"color: #00d7ff; text-decoration-color: #00d7ff\">None</span>, <span style=\"color: #00af00; text-decoration-color: #00af00\">5</span>)                   │             <span style=\"color: #00af00; text-decoration-color: #00af00\">325</span> │\n",
       "└──────────────────────────────────────┴─────────────────────────────┴─────────────────┘\n",
       "</pre>\n"
      ],
      "text/plain": [
       "┏━━━━━━━━━━━━━━━━━━━━━━━━━━━━━━━━━━━━━━┳━━━━━━━━━━━━━━━━━━━━━━━━━━━━━┳━━━━━━━━━━━━━━━━━┓\n",
       "┃\u001b[1m \u001b[0m\u001b[1mLayer (type)                        \u001b[0m\u001b[1m \u001b[0m┃\u001b[1m \u001b[0m\u001b[1mOutput Shape               \u001b[0m\u001b[1m \u001b[0m┃\u001b[1m \u001b[0m\u001b[1m        Param #\u001b[0m\u001b[1m \u001b[0m┃\n",
       "┡━━━━━━━━━━━━━━━━━━━━━━━━━━━━━━━━━━━━━━╇━━━━━━━━━━━━━━━━━━━━━━━━━━━━━╇━━━━━━━━━━━━━━━━━┩\n",
       "│ inception_v3 (\u001b[38;5;33mFunctional\u001b[0m)            │ (\u001b[38;5;45mNone\u001b[0m, \u001b[38;5;45mNone\u001b[0m, \u001b[38;5;45mNone\u001b[0m, \u001b[38;5;34m2048\u001b[0m)    │      \u001b[38;5;34m21,802,784\u001b[0m │\n",
       "├──────────────────────────────────────┼─────────────────────────────┼─────────────────┤\n",
       "│ global_average_pooling2d             │ (\u001b[38;5;45mNone\u001b[0m, \u001b[38;5;34m2048\u001b[0m)                │               \u001b[38;5;34m0\u001b[0m │\n",
       "│ (\u001b[38;5;33mGlobalAveragePooling2D\u001b[0m)             │                             │                 │\n",
       "├──────────────────────────────────────┼─────────────────────────────┼─────────────────┤\n",
       "│ dense (\u001b[38;5;33mDense\u001b[0m)                        │ (\u001b[38;5;45mNone\u001b[0m, \u001b[38;5;34m128\u001b[0m)                 │         \u001b[38;5;34m262,272\u001b[0m │\n",
       "├──────────────────────────────────────┼─────────────────────────────┼─────────────────┤\n",
       "│ dropout (\u001b[38;5;33mDropout\u001b[0m)                    │ (\u001b[38;5;45mNone\u001b[0m, \u001b[38;5;34m128\u001b[0m)                 │               \u001b[38;5;34m0\u001b[0m │\n",
       "├──────────────────────────────────────┼─────────────────────────────┼─────────────────┤\n",
       "│ dense_1 (\u001b[38;5;33mDense\u001b[0m)                      │ (\u001b[38;5;45mNone\u001b[0m, \u001b[38;5;34m64\u001b[0m)                  │           \u001b[38;5;34m8,256\u001b[0m │\n",
       "├──────────────────────────────────────┼─────────────────────────────┼─────────────────┤\n",
       "│ dropout_1 (\u001b[38;5;33mDropout\u001b[0m)                  │ (\u001b[38;5;45mNone\u001b[0m, \u001b[38;5;34m64\u001b[0m)                  │               \u001b[38;5;34m0\u001b[0m │\n",
       "├──────────────────────────────────────┼─────────────────────────────┼─────────────────┤\n",
       "│ dense_2 (\u001b[38;5;33mDense\u001b[0m)                      │ (\u001b[38;5;45mNone\u001b[0m, \u001b[38;5;34m5\u001b[0m)                   │             \u001b[38;5;34m325\u001b[0m │\n",
       "└──────────────────────────────────────┴─────────────────────────────┴─────────────────┘\n"
      ]
     },
     "metadata": {},
     "output_type": "display_data"
    },
    {
     "data": {
      "text/html": [
       "<pre style=\"white-space:pre;overflow-x:auto;line-height:normal;font-family:Menlo,'DejaVu Sans Mono',consolas,'Courier New',monospace\"><span style=\"font-weight: bold\"> Total params: </span><span style=\"color: #00af00; text-decoration-color: #00af00\">22,073,637</span> (84.20 MB)\n",
       "</pre>\n"
      ],
      "text/plain": [
       "\u001b[1m Total params: \u001b[0m\u001b[38;5;34m22,073,637\u001b[0m (84.20 MB)\n"
      ]
     },
     "metadata": {},
     "output_type": "display_data"
    },
    {
     "data": {
      "text/html": [
       "<pre style=\"white-space:pre;overflow-x:auto;line-height:normal;font-family:Menlo,'DejaVu Sans Mono',consolas,'Courier New',monospace\"><span style=\"font-weight: bold\"> Trainable params: </span><span style=\"color: #00af00; text-decoration-color: #00af00\">20,103,845</span> (76.69 MB)\n",
       "</pre>\n"
      ],
      "text/plain": [
       "\u001b[1m Trainable params: \u001b[0m\u001b[38;5;34m20,103,845\u001b[0m (76.69 MB)\n"
      ]
     },
     "metadata": {},
     "output_type": "display_data"
    },
    {
     "data": {
      "text/html": [
       "<pre style=\"white-space:pre;overflow-x:auto;line-height:normal;font-family:Menlo,'DejaVu Sans Mono',consolas,'Courier New',monospace\"><span style=\"font-weight: bold\"> Non-trainable params: </span><span style=\"color: #00af00; text-decoration-color: #00af00\">1,969,792</span> (7.51 MB)\n",
       "</pre>\n"
      ],
      "text/plain": [
       "\u001b[1m Non-trainable params: \u001b[0m\u001b[38;5;34m1,969,792\u001b[0m (7.51 MB)\n"
      ]
     },
     "metadata": {},
     "output_type": "display_data"
    }
   ],
   "source": [
    "import os\n",
    "import numpy as np\n",
    "import tensorflow as tf\n",
    "from tensorflow.keras import regularizers\n",
    "from sklearn.model_selection import train_test_split\n",
    "from tensorflow.keras.applications import InceptionV3\n",
    "from tensorflow.keras import layers, models\n",
    "from tensorflow.keras.regularizers import l2\n",
    "from tensorflow.keras.callbacks import EarlyStopping\n",
    "from tensorflow.keras.preprocessing.image import ImageDataGenerator\n",
    "import matplotlib.pyplot as plt\n",
    "\n",
    "datagen = ImageDataGenerator(\n",
    "    rotation_range=40,\n",
    "    width_shift_range=0.2,\n",
    "    height_shift_range=0.2,\n",
    "    shear_range=0.2,\n",
    "    zoom_range=0.2,\n",
    "    horizontal_flip=True,\n",
    "    fill_mode='nearest'\n",
    ")\n",
    "\n",
    "base_model = InceptionV3(weights='imagenet', include_top=False)\n",
    "\n",
    "\n",
    "for layer in base_model.layers[-20:]:\n",
    "    layer.trainable = False\n",
    "\n",
    "Dmodel = models.Sequential()\n",
    "\n",
    "Dmodel.add(base_model)\n",
    "\n",
    "Dmodel.add(layers.GlobalAveragePooling2D())  \n",
    "Dmodel.add(layers.Dense(128, activation='relu', kernel_regularizer=l2(0.01))) \n",
    "Dmodel.add(layers.Dropout(0.5)) \n",
    "Dmodel.add(layers.Dense(64, activation='relu', kernel_regularizer=l2(0.01))) \n",
    "Dmodel.add(layers.Dropout(0.5))  \n",
    "Dmodel.add(layers.Dense(5, activation='softmax'))  \n",
    "\n",
    "Dmodel.compile(optimizer=tf.keras.optimizers.Adam(learning_rate=0.0001),\n",
    "               loss='categorical_crossentropy',\n",
    "               metrics=['accuracy'])\n",
    "\n",
    "\n",
    "Dmodel.summary()\n"
   ]
  },
  {
   "cell_type": "code",
   "execution_count": 2,
   "id": "7d4174d3-9b84-4c6c-b7e2-2f3e39b5d169",
   "metadata": {},
   "outputs": [
    {
     "name": "stdout",
     "output_type": "stream",
     "text": [
      "Looking for images in: C:\\Users\\Garba Buhari\\Desktop\\face recognition and verification\\dataset\n",
      "Found directory: Adele\n",
      "Found directory: Aliko dangote\n",
      "Skipped non-image file: Image_60.JPG\n",
      "Skipped non-image file: Image_69.webp\n",
      "Found directory: donald trump\n",
      "Found directory: elon musk\n",
      "Skipped non-image file: Image_35.webp\n",
      "Skipped non-image file: Image_69.webp\n",
      "Skipped non-image file: Image_90.webp\n",
      "Skipped non-image file: Image_96.webp\n",
      "Found directory: mike tyson\n",
      "Skipped non-image file: Image_87.webp\n",
      "x_train shape: (403, 299, 299, 3), y_train shape: (403, 5)\n",
      "x_test shape: (101, 299, 299, 3), y_test shape: (101, 5)\n"
     ]
    }
   ],
   "source": [
    "import os\n",
    "import numpy as np\n",
    "import tensorflow as tf\n",
    "from sklearn.model_selection import train_test_split\n",
    "from tensorflow.keras.callbacks import EarlyStopping\n",
    "import matplotlib.pyplot as plt\n",
    "\n",
    "def load_and_preprocess_images(image_dir):\n",
    "    images = []\n",
    "    labels = []\n",
    "    \n",
    "    for person_dir in os.listdir(image_dir):\n",
    "        person_path = os.path.join(image_dir, person_dir)\n",
    "        \n",
    "        if os.path.isdir(person_path):\n",
    "            print(f\"Found directory: {person_dir}\")  \n",
    "            \n",
    "            for filename in os.listdir(person_path):\n",
    "                if filename.endswith(('.png', '.jpg', '.jpeg','.jfif')): \n",
    "                    img_path = os.path.join(person_path, filename)\n",
    "                    img = tf.keras.preprocessing.image.load_img(img_path, target_size=(299, 299))\n",
    "                    img_array = tf.keras.preprocessing.image.img_to_array(img)\n",
    "                    images.append(img_array)  \n",
    "                    labels.append(person_dir)  \n",
    "                else:\n",
    "                    print(f\"Skipped non-image file: {filename}\") \n",
    "\n",
    "    return np.array(images), np.array(labels)  \n",
    "\n",
    "image_dir = r\"C:\\Users\\Garba Buhari\\Desktop\\face recognition and verification\\dataset\"\n",
    "print(\"Looking for images in:\", image_dir)\n",
    "\n",
    "images, labels = load_and_preprocess_images(image_dir)\n",
    "\n",
    "\n",
    "if images.size > 0: \n",
    "    images = images / 255.0\n",
    "\n",
    "unique_labels, y_encoded = np.unique(labels, return_inverse=True)\n",
    "y_encoded_one_hot = tf.keras.utils.to_categorical(y_encoded, num_classes=len(unique_labels))\n",
    "\n",
    "x_train, x_test, y_train, y_test = train_test_split(images, y_encoded_one_hot, test_size=0.2, random_state=42)\n",
    "\n",
    "print(f\"x_train shape: {x_train.shape}, y_train shape: {y_train.shape}\")\n",
    "print(f\"x_test shape: {x_test.shape}, y_test shape: {y_test.shape}\")\n"
   ]
  },
  {
   "cell_type": "code",
   "execution_count": 3,
   "id": "cce22b46-bc9c-49f2-a6ba-7fa9d3a2dd6c",
   "metadata": {},
   "outputs": [
    {
     "name": "stdout",
     "output_type": "stream",
     "text": [
      "Epoch 1/15\n",
      "\u001b[1m13/13\u001b[0m \u001b[32m━━━━━━━━━━━━━━━━━━━━\u001b[0m\u001b[37m\u001b[0m \u001b[1m307s\u001b[0m 19s/step - accuracy: 0.2267 - loss: 4.9794 - val_accuracy: 0.3861 - val_loss: 4.6326\n",
      "Epoch 2/15\n",
      "\u001b[1m13/13\u001b[0m \u001b[32m━━━━━━━━━━━━━━━━━━━━\u001b[0m\u001b[37m\u001b[0m \u001b[1m324s\u001b[0m 25s/step - accuracy: 0.4719 - loss: 4.5897 - val_accuracy: 0.4950 - val_loss: 4.3957\n",
      "Epoch 3/15\n",
      "\u001b[1m13/13\u001b[0m \u001b[32m━━━━━━━━━━━━━━━━━━━━\u001b[0m\u001b[37m\u001b[0m \u001b[1m304s\u001b[0m 23s/step - accuracy: 0.5872 - loss: 4.3262 - val_accuracy: 0.6436 - val_loss: 4.0887\n",
      "Epoch 4/15\n",
      "\u001b[1m13/13\u001b[0m \u001b[32m━━━━━━━━━━━━━━━━━━━━\u001b[0m\u001b[37m\u001b[0m \u001b[1m285s\u001b[0m 22s/step - accuracy: 0.6461 - loss: 4.0464 - val_accuracy: 0.8119 - val_loss: 3.8048\n",
      "Epoch 5/15\n",
      "\u001b[1m13/13\u001b[0m \u001b[32m━━━━━━━━━━━━━━━━━━━━\u001b[0m\u001b[37m\u001b[0m \u001b[1m291s\u001b[0m 23s/step - accuracy: 0.7488 - loss: 3.8525 - val_accuracy: 0.8515 - val_loss: 3.5598\n",
      "Epoch 6/15\n",
      "\u001b[1m13/13\u001b[0m \u001b[32m━━━━━━━━━━━━━━━━━━━━\u001b[0m\u001b[37m\u001b[0m \u001b[1m276s\u001b[0m 21s/step - accuracy: 0.8468 - loss: 3.5250 - val_accuracy: 0.9208 - val_loss: 3.4632\n",
      "Epoch 7/15\n",
      "\u001b[1m13/13\u001b[0m \u001b[32m━━━━━━━━━━━━━━━━━━━━\u001b[0m\u001b[37m\u001b[0m \u001b[1m242s\u001b[0m 19s/step - accuracy: 0.9005 - loss: 3.3432 - val_accuracy: 0.8812 - val_loss: 3.3250\n",
      "Epoch 8/15\n",
      "\u001b[1m13/13\u001b[0m \u001b[32m━━━━━━━━━━━━━━━━━━━━\u001b[0m\u001b[37m\u001b[0m \u001b[1m251s\u001b[0m 19s/step - accuracy: 0.9197 - loss: 3.2448 - val_accuracy: 0.9010 - val_loss: 3.2023\n",
      "Epoch 9/15\n",
      "\u001b[1m13/13\u001b[0m \u001b[32m━━━━━━━━━━━━━━━━━━━━\u001b[0m\u001b[37m\u001b[0m \u001b[1m308s\u001b[0m 24s/step - accuracy: 0.9168 - loss: 3.1666 - val_accuracy: 0.8911 - val_loss: 3.1824\n",
      "Epoch 10/15\n",
      "\u001b[1m13/13\u001b[0m \u001b[32m━━━━━━━━━━━━━━━━━━━━\u001b[0m\u001b[37m\u001b[0m \u001b[1m304s\u001b[0m 24s/step - accuracy: 0.9402 - loss: 3.0785 - val_accuracy: 0.8911 - val_loss: 3.1272\n",
      "Epoch 11/15\n",
      "\u001b[1m13/13\u001b[0m \u001b[32m━━━━━━━━━━━━━━━━━━━━\u001b[0m\u001b[37m\u001b[0m \u001b[1m310s\u001b[0m 22s/step - accuracy: 0.9458 - loss: 3.0220 - val_accuracy: 0.9109 - val_loss: 3.0944\n",
      "Epoch 12/15\n",
      "\u001b[1m13/13\u001b[0m \u001b[32m━━━━━━━━━━━━━━━━━━━━\u001b[0m\u001b[37m\u001b[0m \u001b[1m303s\u001b[0m 24s/step - accuracy: 0.9560 - loss: 2.9837 - val_accuracy: 0.9604 - val_loss: 2.9433\n",
      "Epoch 13/15\n",
      "\u001b[1m13/13\u001b[0m \u001b[32m━━━━━━━━━━━━━━━━━━━━\u001b[0m\u001b[37m\u001b[0m \u001b[1m237s\u001b[0m 18s/step - accuracy: 0.9637 - loss: 2.9309 - val_accuracy: 0.9802 - val_loss: 2.9057\n",
      "Epoch 14/15\n",
      "\u001b[1m13/13\u001b[0m \u001b[32m━━━━━━━━━━━━━━━━━━━━\u001b[0m\u001b[37m\u001b[0m \u001b[1m235s\u001b[0m 18s/step - accuracy: 0.9601 - loss: 2.8687 - val_accuracy: 0.9802 - val_loss: 2.8538\n",
      "Epoch 15/15\n",
      "\u001b[1m13/13\u001b[0m \u001b[32m━━━━━━━━━━━━━━━━━━━━\u001b[0m\u001b[37m\u001b[0m \u001b[1m276s\u001b[0m 22s/step - accuracy: 0.9877 - loss: 2.7836 - val_accuracy: 0.9802 - val_loss: 2.8105\n"
     ]
    },
    {
     "data": {
      "image/png": "[encoded data removed]",
      "text/plain": [
       "<Figure size 640x480 with 1 Axes>"
      ]
     },
     "metadata": {},
     "output_type": "display_data"
    }
   ],
   "source": [
    "early_stopping = EarlyStopping(monitor='val_loss', patience=5, restore_best_weights=True)\n",
    "\n",
    "history = Dmodel.fit(x_train, y_train, \n",
    "                     epochs=15, \n",
    "                     validation_data=(x_test, y_test), \n",
    "                     callbacks=[early_stopping])\n",
    "\n",
    "\n",
    "# Plot training and validation loss values\n",
    "plt.plot(history.history['loss'], label='Train Loss')\n",
    "plt.plot(history.history['val_loss'], label='Validation Loss')\n",
    "plt.title('Model Loss')\n",
    "plt.ylabel('Loss')\n",
    "plt.xlabel('Epoch')\n",
    "plt.legend()\n",
    "plt.show()\n"
   ]
  },
  {
   "cell_type": "code",
   "execution_count": 4,
   "id": "8489876a-9128-4549-9412-182722bfb12f",
   "metadata": {},
   "outputs": [
    {
     "name": "stdout",
     "output_type": "stream",
     "text": [
      "4/4 - 19s - 5s/step - accuracy: 0.9802 - loss: 2.8105\n",
      "Test Accuracy: 0.98\n"
     ]
    }
   ],
   "source": [
    "test_loss, test_accuracy = Dmodel.evaluate(x_test, y_test, verbose=2)\n",
    "print(f\"Test Accuracy: {test_accuracy:.2f}\")"
   ]
  },
  {
   "cell_type": "code",
   "execution_count": 5,
   "id": "7c989d24-ec95-4d66-9c5e-82906ea27a3c",
   "metadata": {},
   "outputs": [],
   "source": [
    "import os\n",
    "from keras.preprocessing import image\n",
    "\n",
    "def img_to_encoding(image_path, model):\n",
    "    img = image.load_img(image_path, target_size=(299, 299))  \n",
    "    img_array = image.img_to_array(img)\n",
    "    img_array = np.expand_dims(img_array, axis=0)\n",
    "    img_array = img_array / 255.0 \n",
    "    encoding = model.predict(img_array)\n",
    "    return encoding\n",
    "\n",
    "\n"
   ]
  },
  {
   "cell_type": "code",
   "execution_count": 16,
   "id": "f8385737-55e9-47ef-a596-06cc98a6fcd9",
   "metadata": {},
   "outputs": [
    {
     "name": "stdout",
     "output_type": "stream",
     "text": [
      "\u001b[1m1/1\u001b[0m \u001b[32m━━━━━━━━━━━━━━━━━━━━\u001b[0m\u001b[37m\u001b[0m \u001b[1m0s\u001b[0m 363ms/step\n",
      "\u001b[1m1/1\u001b[0m \u001b[32m━━━━━━━━━━━━━━━━━━━━\u001b[0m\u001b[37m\u001b[0m \u001b[1m0s\u001b[0m 260ms/step\n",
      "\u001b[1m1/1\u001b[0m \u001b[32m━━━━━━━━━━━━━━━━━━━━\u001b[0m\u001b[37m\u001b[0m \u001b[1m0s\u001b[0m 262ms/step\n",
      "\u001b[1m1/1\u001b[0m \u001b[32m━━━━━━━━━━━━━━━━━━━━\u001b[0m\u001b[37m\u001b[0m \u001b[1m0s\u001b[0m 255ms/step\n",
      "\u001b[1m1/1\u001b[0m \u001b[32m━━━━━━━━━━━━━━━━━━━━\u001b[0m\u001b[37m\u001b[0m \u001b[1m0s\u001b[0m 257ms/step\n",
      "\u001b[1m1/1\u001b[0m \u001b[32m━━━━━━━━━━━━━━━━━━━━\u001b[0m\u001b[37m\u001b[0m \u001b[1m0s\u001b[0m 253ms/step\n",
      "It's Donald trump, the distance is 0.00013249192852526903\n"
     ]
    }
   ],
   "source": [
    "import os\n",
    "import numpy as np\n",
    "\n",
    "\n",
    "def create_encodings(directories, model):\n",
    "    encodings = {}\n",
    "    for name, folder_path in directories.items():\n",
    "        first_image_path = os.path.join(folder_path, os.listdir(folder_path)[0])\n",
    "        encodings[name] = img_to_encoding(first_image_path, model)\n",
    "    return encodings\n",
    "\n",
    "def recognize(image_path, encodings, model):\n",
    "    encoding = img_to_encoding(image_path, model)\n",
    "    min_dist = float('inf')\n",
    "    identity = None\n",
    "\n",
    "    for name, anchor_enc in encodings.items():\n",
    "        dist = np.linalg.norm(encoding - anchor_enc)\n",
    "        if dist < min_dist:\n",
    "            min_dist = dist\n",
    "            identity = name\n",
    "\n",
    "    if min_dist > 0.003:  \n",
    "        print(\"access denied.\")\n",
    "        identity = None\n",
    "    else:\n",
    "        print(f\"It's {identity}, the distance is {min_dist}\")\n",
    "\n",
    "    return min_dist, identity\n",
    "\n",
    "directories = {\n",
    "    \"Adele\": r\"C:\\Users\\Garba Buhari\\Desktop\\face recognition and verification\\dataset\\Adele\",\n",
    "    \"mike tyson\": r\"C:\\Users\\Garba Buhari\\Desktop\\face recognition and verification\\dataset\\mike tyson\",\n",
    "    \"elon musk\": r\"C:\\Users\\Garba Buhari\\Desktop\\face recognition and verification\\dataset\\elon musk\",\n",
    "    \"Donald trump\": r\"C:\\Users\\Garba Buhari\\Desktop\\face recognition and verification\\dataset\\donald trump\",\n",
    "    \"Aliko dangote\": r\"C:\\Users\\Garba Buhari\\Desktop\\face recognition and verification\\dataset\\Aliko dangote\"\n",
    "}\n",
    "\n",
    "encodings = create_encodings(directories, Dmodel) \n",
    "\n",
    "image_path = r\"C:\\Users\\Garba Buhari\\Desktop\\face recognition and verification\\my boy.jfif\"\n",
    "min_dist, identity = recognize(image_path, encodings, Dmodel) "
   ]
  },
  {
   "cell_type": "code",
   "execution_count": 18,
   "id": "f64d94a6-331d-4f91-a598-7adbb974e99c",
   "metadata": {},
   "outputs": [
    {
     "name": "stdout",
     "output_type": "stream",
     "text": [
      "\u001b[1m1/1\u001b[0m \u001b[32m━━━━━━━━━━━━━━━━━━━━\u001b[0m\u001b[37m\u001b[0m \u001b[1m0s\u001b[0m 385ms/step\n",
      "\u001b[1m1/1\u001b[0m \u001b[32m━━━━━━━━━━━━━━━━━━━━\u001b[0m\u001b[37m\u001b[0m \u001b[1m0s\u001b[0m 330ms/step\n",
      "Same person! The distance is 0.49527209997177124\n"
     ]
    }
   ],
   "source": [
    "def verify(image_path_1, image_path_2, model):\n",
    "    encoding_1 = img_to_encoding(image_path_1, model)\n",
    "    encoding_2 = img_to_encoding(image_path_2, model)\n",
    "\n",
    "    \n",
    "    dist = np.linalg.norm(encoding_1 - encoding_2)\n",
    "\n",
    "    \n",
    "    if dist < 0.5:\n",
    "        print(f\"Same person! The distance is {dist}\")\n",
    "        return True\n",
    "    else:\n",
    "        print(f\"Different people! The distance is {dist}\")\n",
    "        return False\n",
    "image_path_1 = r\"C:\\Users\\Garba Buhari\\Desktop\\face recognition and verification\\Screenshot_20200908-222228.png\"\n",
    "image_path_2 = r\"C:\\Users\\Garba Buhari\\Desktop\\face recognition and verification\\Screenshot_20211011-153412.png\"\n",
    "is_same_person = verify(image_path_1, image_path_2, Dmodel)"
   ]
  },
  {
   "cell_type": "code",
   "execution_count": null,
   "id": "52644ae6-5aaf-412e-8520-30df3bf23eb7",
   "metadata": {},
   "outputs": [],
   "source": []
  }
 ],
 "metadata": {
  "kernelspec": {
   "display_name": "Python 3 (ipykernel)",
   "language": "python",
   "name": "python3"
  },
  "language_info": {
   "codemirror_mode": {
    "name": "ipython",
    "version": 3
   },
   "file_extension": ".py",
   "mimetype": "text/x-python",
   "name": "python",
   "nbconvert_exporter": "python",
   "pygments_lexer": "ipython3",
   "version": "3.11.7"
  }
 },
 "nbformat": 4,
 "nbformat_minor": 5
}
